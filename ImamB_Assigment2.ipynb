{
 "cells": [
  {
   "cell_type": "code",
   "execution_count": 15,
   "id": "e0f34738-2585-4fed-a974-25f0439d22f6",
   "metadata": {},
   "outputs": [],
   "source": [
    "def value_position(num):\n",
    "    pos = num[0]\n",
    "    if pos >= len(num):\n",
    "        return -1\n",
    "    return num [pos+1]"
   ]
  },
  {
   "cell_type": "code",
   "execution_count": 16,
   "id": "1e7f97b5-53dc-4464-8eb2-f87a0e0635be",
   "metadata": {},
   "outputs": [
    {
     "name": "stdout",
     "output_type": "stream",
     "text": [
      "40\n",
      "-1\n",
      "300\n",
      "-1\n",
      "-1\n"
     ]
    }
   ],
   "source": [
    "print(value_position((3, 10, 20, 30, 40)))\n",
    "print(value_position((0, -10, 10)))         \n",
    "print(value_position((1, 2, 300, 10)))      \n",
    "print(value_position((100, 200, 300, -400)))\n",
    "print(value_position((4, 200, 300, -400))) "
   ]
  },
  {
   "cell_type": "code",
   "execution_count": 17,
   "id": "97b7eb25-35f5-4ae4-8268-a3798f6cbf6c",
   "metadata": {},
   "outputs": [
    {
     "name": "stdout",
     "output_type": "stream",
     "text": [
      "12.5\n",
      "15\n"
     ]
    }
   ],
   "source": [
    "import Rumus as mod\n",
    "\n",
    "print(mod.luas_segitiga(5,5))\n",
    "print(mod.keliling_segitiga(5,5,5))"
   ]
  }
 ],
 "metadata": {
  "kernelspec": {
   "display_name": "Python 3 (ipykernel)",
   "language": "python",
   "name": "python3"
  },
  "language_info": {
   "codemirror_mode": {
    "name": "ipython",
    "version": 3
   },
   "file_extension": ".py",
   "mimetype": "text/x-python",
   "name": "python",
   "nbconvert_exporter": "python",
   "pygments_lexer": "ipython3",
   "version": "3.9.8"
  }
 },
 "nbformat": 4,
 "nbformat_minor": 5
}
